{
  "cells": [
    {
      "cell_type": "markdown",
      "metadata": {
        "id": "view-in-github",
        "colab_type": "text"
      },
      "source": [
        "<a href=\"https://colab.research.google.com/github/cam2149/Curso_introduccion/blob/main/CI-U2/U2-05-EjerciciosU1_U2.ipynb\" target=\"_parent\"><img src=\"https://colab.research.google.com/assets/colab-badge.svg\" alt=\"Open In Colab\"/></a>"
      ]
    },
    {
      "cell_type": "markdown",
      "metadata": {
        "id": "M2HWOsy7bi_M"
      },
      "source": [
        "# Unidad 2 - Introducción a la algoritmia con Python\n",
        "#### Elementos básicos de Python\n",
        "\n",
        "# Demo Trabajo con Strings\n",
        "\n",
        "En este notebook vas a encontrar ejemplos de uso de algunos de los operadores más comunes disponibles en Python, en este caso lo haremos en relación al tipo de dato Srecuerda que siempre puedes ir a la referencia si tienes alguna duda [Ir a la referencia](https://docs.python.org/3.9/library/index.html)\n",
        "\n",
        "##### Contenido de este archivo:\n",
        "\n",
        "1. Trabajar con Strings\n",
        "2. Manipulación de Strings"
      ]
    },
    {
      "cell_type": "code",
      "execution_count": 1,
      "metadata": {
        "id": "VPv_FaZQbi_P",
        "outputId": "8b32b71e-2770-4127-85da-67692960fb62",
        "colab": {
          "base_uri": "https://localhost:8080/",
          "height": 35
        }
      },
      "outputs": [
        {
          "output_type": "execute_result",
          "data": {
            "text/plain": [
              "'Hola, Python!'"
            ],
            "application/vnd.google.colaboratory.intrinsic+json": {
              "type": "string"
            }
          },
          "metadata": {},
          "execution_count": 1
        }
      ],
      "source": [
        "# 01. Tarea: Crea una variable llamada 'mensaje' y asígnale el valor \"Hola, Python!\"\n",
        "Hi = \"Hola, Python!\"\n",
        "\n",
        "Hi"
      ]
    },
    {
      "cell_type": "code",
      "execution_count": 2,
      "metadata": {
        "id": "ChKa_bdZbi_S",
        "outputId": "e6c36d6d-245e-44e3-de77-9419d2de13fe",
        "colab": {
          "base_uri": "https://localhost:8080/"
        }
      },
      "outputs": [
        {
          "output_type": "stream",
          "name": "stdout",
          "text": [
            "Bachata\n"
          ]
        }
      ],
      "source": [
        "# 02. Tarea: Crea una lista con nombres de ritmos musicales y muestra el tercer elemento.\n",
        "musical_rhythms = [\"Salsa\", \"Reggaeton\", \"Bachata\", \"Merengue\", \"Cumbia\"]\n",
        "print(musical_rhythms[2])"
      ]
    },
    {
      "cell_type": "code",
      "execution_count": 3,
      "metadata": {
        "id": "WmPnHDwkbi_S",
        "outputId": "b536ee00-b03b-4966-ecf0-d663d1e191ef",
        "colab": {
          "base_uri": "https://localhost:8080/"
        }
      },
      "outputs": [
        {
          "output_type": "stream",
          "name": "stdout",
          "text": [
            "El área del rectangulo con base 5 y altura 3 es 15.\n"
          ]
        }
      ],
      "source": [
        "# 03. Tarea: Calcula el área de un rectángulo con base 5 y altura 3.\n",
        "\n",
        "base = 5\n",
        "height = 3\n",
        "\n",
        "area = base * height\n",
        "\n",
        "print(f\"El área del rectangulo con base {base} y altura {height} es {area}.\")\n",
        "\n"
      ]
    },
    {
      "cell_type": "code",
      "execution_count": 5,
      "metadata": {
        "id": "XA7h7DJpbi_U",
        "outputId": "83f132a6-3834-4f02-c969-b8f8023b3e5d",
        "colab": {
          "base_uri": "https://localhost:8080/"
        }
      },
      "outputs": [
        {
          "output_type": "stream",
          "name": "stdout",
          "text": [
            "El numero 7 es Es impar.\n",
            "El numero 1956 es ES par.\n"
          ]
        }
      ],
      "source": [
        "# 04. Tarea: Implementa un programa que determine si un número es par o impar.\n",
        "\n",
        "def es_par_o_impar(number):\n",
        "    if number % 2 == 0:\n",
        "        return \"ES par\"\n",
        "    else:\n",
        "        return \"Es impar\"\n",
        "\n",
        "number = 7\n",
        "print(f\"El numero {number} es {es_par_o_impar(number)}.\")\n",
        "\n",
        "number = 1956\n",
        "print(f\"El numero {number} es {es_par_o_impar(number)}.\")\n"
      ]
    },
    {
      "cell_type": "code",
      "source": [
        "\n",
        "# 04. Tarea: Implementa un programa que determine si un número es par o impar.\n",
        "\n",
        "def es_par_o_impar(number):\n",
        "    if number % 2 == 0:\n",
        "        return \"ES par\"\n",
        "    else:\n",
        "        return \"Es impar\"\n",
        "\n",
        "number = float(input(\"Por favor, ingresa un número: \"))\n",
        "print(f\"El numero {number} es {es_par_o_impar(number)}.\")\n",
        "\n",
        "number = number = float(input(\"Por favor, ingresa un número: \"))\n",
        "print(f\"El numero {number} es {es_par_o_impar(number)}.\")"
      ],
      "metadata": {
        "id": "gmGd81umgoCx",
        "outputId": "de7dea7e-ef21-46a8-e0b0-7e23c1ce9003",
        "colab": {
          "base_uri": "https://localhost:8080/"
        }
      },
      "execution_count": 17,
      "outputs": [
        {
          "output_type": "stream",
          "name": "stdout",
          "text": [
            "Por favor, ingresa un número: 7\n",
            "El numero 7.0 es Es impar.\n",
            "Por favor, ingresa un número: 1962\n",
            "El numero 1962.0 es ES par.\n"
          ]
        }
      ]
    },
    {
      "cell_type": "code",
      "execution_count": 9,
      "metadata": {
        "id": "F3C3pZ9zbi_U",
        "outputId": "1fdcfd71-977b-4202-d30d-5595361f690d",
        "colab": {
          "base_uri": "https://localhost:8080/",
          "height": 106
        }
      },
      "outputs": [
        {
          "output_type": "error",
          "ename": "SyntaxError",
          "evalue": "invalid syntax (<ipython-input-9-38690dbb45b4>, line 3)",
          "traceback": [
            "\u001b[0;36m  File \u001b[0;32m\"<ipython-input-9-38690dbb45b4>\"\u001b[0;36m, line \u001b[0;32m3\u001b[0m\n\u001b[0;31m    while = 5\u001b[0m\n\u001b[0m          ^\u001b[0m\n\u001b[0;31mSyntaxError\u001b[0m\u001b[0;31m:\u001b[0m invalid syntax\n"
          ]
        }
      ],
      "source": [
        "# Tarea: Intenta usar una palabra reservada como nombre de variable y observa qué sucede.\n",
        "\n",
        "while = 5\n",
        "height = 3\n",
        "\n",
        "area = while * height\n",
        "\n",
        "print(f\"El área del rectangulo con base {while} y altura {height} es {area}.\")"
      ]
    },
    {
      "cell_type": "code",
      "execution_count": 11,
      "metadata": {
        "id": "7pBWPwFBbi_V",
        "outputId": "89b5ffab-ccb8-45a2-b6b3-cce14c0b8a18",
        "colab": {
          "base_uri": "https://localhost:8080/"
        }
      },
      "outputs": [
        {
          "output_type": "stream",
          "name": "stdout",
          "text": [
            "El de la operacion (10 + 5) * 2 / 3  es 10.0.\n"
          ]
        }
      ],
      "source": [
        "# 06. Tarea: Calcula el resultado de la siguiente expresión matemática: (10 + 5) * 2 / 3\n",
        "\n",
        "print(f\"El de la operacion (10 + 5) * 2 / 3  es {(10 + 5) * 2 / 3}.\")"
      ]
    },
    {
      "cell_type": "code",
      "execution_count": 13,
      "metadata": {
        "id": "vSVEJuWvbi_V",
        "outputId": "56699aa0-a0df-42cb-fa16-3bc145ea13b4",
        "colab": {
          "base_uri": "https://localhost:8080/"
        }
      },
      "outputs": [
        {
          "output_type": "stream",
          "name": "stdout",
          "text": [
            "La suma de todos los elementos de las lista es 15.\n"
          ]
        }
      ],
      "source": [
        "# 07. Tarea: Crea una lista de números y muestra la suma de todos los elementos.\n",
        "\n",
        "# Crea la lista de numeros\n",
        "numbers = [1, 2, 3, 4, 5]\n",
        "# Calcula la suma la lista de numeros\n",
        "total = sum(numbers)\n",
        "# Print the result\n",
        "print(f\"La suma de todos los elementos de las lista es {total}.\")\n",
        "\n"
      ]
    },
    {
      "cell_type": "code",
      "source": [
        "# 08. Tarea: Solicita al usuario ingresar un número e indica si es positivo, negativo o cero.\n",
        "def check_number(n):\n",
        "    if n > 0:\n",
        "        return \"El número es positivo.\"\n",
        "    elif n < 0:\n",
        "        return \"El número es negativo.\"\n",
        "    else:\n",
        "        return \"El número es cero.\"\n",
        "\n",
        "# Test the function with a positive number, a negative number, and zero\n",
        "print(check_number(5))  # Should print: \"El número es positivo.\"\n",
        "print(check_number(-3))  # Should print: \"El número es negativo.\"\n",
        "print(check_number(0))  # Should print: \"El número es cero.\"\n"
      ],
      "metadata": {
        "id": "TM29o0Fie1zV",
        "outputId": "2ecee957-b1c5-4829-a8cc-8da293df8534",
        "colab": {
          "base_uri": "https://localhost:8080/"
        }
      },
      "execution_count": 14,
      "outputs": [
        {
          "output_type": "stream",
          "name": "stdout",
          "text": [
            "El número es positivo.\n",
            "El número es negativo.\n",
            "El número es cero.\n"
          ]
        }
      ]
    },
    {
      "cell_type": "code",
      "execution_count": 16,
      "metadata": {
        "id": "YMwKf07xbi_W",
        "outputId": "8e68ee83-d7ad-42e9-aa22-7e6a6549d347",
        "colab": {
          "base_uri": "https://localhost:8080/"
        }
      },
      "outputs": [
        {
          "output_type": "stream",
          "name": "stdout",
          "text": [
            "H\n",
            "e\n",
            "l\n",
            "l\n",
            "o\n"
          ]
        }
      ],
      "source": [
        "# 09. Tarea: Crea una cadena e imprime cada caracter en una línea. (sin usar ciclos)\n",
        "\n",
        "word = 'Hello'\n",
        "\n",
        "print(word[0])        # will output 'H'\n",
        "print(word[1])        # will output 'e'\n",
        "print(word[2])        # will output 'l'\n",
        "print(word[3])        # will output 'l'\n",
        "print(word[4])        # will output 'o'"
      ]
    },
    {
      "cell_type": "code",
      "source": [
        "# 10. Tarea: Define una función que calcule el área de un círculo dado su radio.\n",
        "import math\n",
        "\n",
        "def calculate_circle_area(radius):\n",
        "    return math.pi * radius ** 2\n",
        "\n",
        "# Test the function with a radius of 5\n",
        "print(f\"The area of the circle with radius 5 is {calculate_circle_area(5)}\")\n",
        "\n"
      ],
      "metadata": {
        "id": "hRzp-u12fi6q"
      },
      "execution_count": null,
      "outputs": []
    },
    {
      "cell_type": "code",
      "execution_count": 18,
      "metadata": {
        "id": "DShHp7WPbi_W",
        "outputId": "3a9167b9-2caa-464a-b23d-dfa9b3406fbd",
        "colab": {
          "base_uri": "https://localhost:8080/"
        }
      },
      "outputs": [
        {
          "output_type": "stream",
          "name": "stdout",
          "text": [
            "La edad de Ana es 25 años.\n"
          ]
        }
      ],
      "source": [
        "# 11. Tarea: Crea un diccionario con nombres de personas y sus edades. Imprime la edad de una persona específica.\n",
        "\n",
        "# Crear un diccionario con nombres de personas y sus edades\n",
        "personas = {\n",
        "    \"Juan\": 30,\n",
        "    \"Ana\": 25,\n",
        "    \"Carlos\": 40,\n",
        "    \"Maria\": 35\n",
        "}\n",
        "\n",
        "# Imprimir la edad de una persona específica\n",
        "nombre = \"Ana\"\n",
        "print(f\"La edad de {nombre} es {personas[nombre]} años.\")\n",
        "\n"
      ]
    },
    {
      "cell_type": "code",
      "execution_count": null,
      "metadata": {
        "id": "eh7bPYyQbi_X",
        "outputId": "e2e97421-66a2-4df2-c05c-174df8d63e45"
      },
      "outputs": [
        {
          "name": "stdout",
          "output_type": "stream",
          "text": [
            "Hlo\n"
          ]
        }
      ],
      "source": [
        "# Imprimir algunos ítems de la secuencia\n",
        "\n",
        "print( word[ 0 : 5 : 2 ] )"
      ]
    },
    {
      "cell_type": "markdown",
      "metadata": {
        "id": "OI_iFcsCbi_X"
      },
      "source": [
        "# Manipulación de cadenas de texto"
      ]
    },
    {
      "cell_type": "code",
      "execution_count": null,
      "metadata": {
        "id": "SgdMfoEgbi_Y",
        "outputId": "17fe6d6b-e9ab-4f42-d7ea-f36898fc3e92"
      },
      "outputs": [
        {
          "name": "stdout",
          "output_type": "stream",
          "text": [
            "Hello there.\n"
          ]
        }
      ],
      "source": [
        "# Reemplazar elementos dentro del String\n",
        "\n",
        "words = 'Hello there!'\n",
        "print(words.replace('!', '.'))"
      ]
    },
    {
      "cell_type": "code",
      "execution_count": null,
      "metadata": {
        "id": "A_zNqF2Xbi_Y",
        "outputId": "65edae0b-e488-4d6f-d77c-2c98df3a08e9"
      },
      "outputs": [
        {
          "name": "stdout",
          "output_type": "stream",
          "text": [
            "5\n"
          ]
        }
      ],
      "source": [
        "# Encontrar el índice bsucado en un String\n",
        "\n",
        "s = 'Look over that way'\n",
        "print(s.find('over'))\n",
        "\n",
        "# [L][o][o][k][ ][o]\n",
        "#  0  1  2  3  4  5"
      ]
    },
    {
      "cell_type": "code",
      "execution_count": null,
      "metadata": {
        "id": "JIDzFve6bi_Z",
        "outputId": "e7a84c69-a2b6-49cb-8b7a-64edeaef3942"
      },
      "outputs": [
        {
          "name": "stdout",
          "output_type": "stream",
          "text": [
            "john\n"
          ]
        }
      ],
      "source": [
        "# Remover espacios en blanco\n",
        "\n",
        "name = '   john   '\n",
        "print(name.strip( ))"
      ]
    },
    {
      "cell_type": "code",
      "execution_count": null,
      "metadata": {
        "id": "CMMlYX22bi_Z",
        "outputId": "02be46fa-3001-4342-eb94-237a32180d2a"
      },
      "outputs": [
        {
          "name": "stdout",
          "output_type": "stream",
          "text": [
            "['These', 'words', 'are', 'separated', 'by', 'spaces']\n"
          ]
        }
      ],
      "source": [
        "# Convertir un String en una lista arreglod de palabras\n",
        "\n",
        "s = 'These words are separated by spaces'\n",
        "\n",
        "print(s.split(' '))"
      ]
    },
    {
      "cell_type": "code",
      "execution_count": null,
      "metadata": {
        "id": "00PmPDA9bi_a"
      },
      "outputs": [],
      "source": []
    }
  ],
  "metadata": {
    "kernelspec": {
      "display_name": "Python 3.7.6 ('base')",
      "language": "python",
      "name": "python3"
    },
    "language_info": {
      "codemirror_mode": {
        "name": "ipython",
        "version": 3
      },
      "file_extension": ".py",
      "mimetype": "text/x-python",
      "name": "python",
      "nbconvert_exporter": "python",
      "pygments_lexer": "ipython3",
      "version": "3.7.6"
    },
    "orig_nbformat": 4,
    "vscode": {
      "interpreter": {
        "hash": "ad2bdc8ecc057115af97d19610ffacc2b4e99fae6737bb82f5d7fb13d2f2c186"
      }
    },
    "colab": {
      "provenance": [],
      "include_colab_link": true
    }
  },
  "nbformat": 4,
  "nbformat_minor": 0
}