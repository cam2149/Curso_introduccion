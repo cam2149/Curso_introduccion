{
  "cells": [
    {
      "cell_type": "markdown",
      "metadata": {
        "id": "view-in-github",
        "colab_type": "text"
      },
      "source": [
        "<a href=\"https://colab.research.google.com/github/cam2149/Curso_introduccion/blob/main/CI-U2/U2-05-EjerciciosU1_U2.ipynb\" target=\"_parent\"><img src=\"https://colab.research.google.com/assets/colab-badge.svg\" alt=\"Open In Colab\"/></a>"
      ]
    },
    {
      "cell_type": "markdown",
      "metadata": {
        "id": "M2HWOsy7bi_M"
      },
      "source": [
        "# Ejercicios de práctica - Unidad 1 y 2 - Introducción a la algoritmia con Python\n",
        "#### Elementos básicos de Python\n",
        "\n",
        "##### Contenido de este archivo:\n",
        "\n",
        "01. Tarea: Crea una variable llamada 'mensaje' y asígnale el valor \"Hola, Python!\"\n",
        "\n",
        "02. Tarea: Crea una lista con nombres de ritmos musicales y muestra el tercer elemento.\n",
        "\n",
        "03. Tarea: Calcula el área de un rectángulo con base 5 y altura 3.\n",
        "\n",
        "04. Tarea: Implementa un programa que determine si un número es par o impar.\n",
        "\n",
        "05. Tarea: Intenta usar una palabra reservada como nombre de variable y observa qué sucede.\n",
        "\n",
        "06. Tarea: Calcula el resultado de la siguiente expresión matemática: (10 + 5) * 2 / 3\n",
        "\n",
        "07. Tarea: Crea una lista de números y muestra la suma de todos los elementos.\n",
        "\n",
        "08. Tarea: Solicita al usuario ingresar un número e indica si es positivo, negativo o cero.\n",
        "\n",
        "09. Tarea: Crea una cadena e imprime cada caracter en una línea. (sin usar ciclos)\n",
        "\n",
        "10. Tarea: Define una función que calcule el área de un círculo dado su radio.\n",
        "\n",
        "11. Tarea: Crea un diccionario con nombres de personas y sus edades. Imprime la edad de una persona específica.\n",
        "\n",
        "12. Tarea: Utiliza el módulo 'random' para generar un número aleatorio entre 1 y 10.\n",
        "\n",
        "13. Tarea: Calcula la suma, resta, multiplicación y división de dos números sin usar condicionales ni bucles.\n",
        "\n",
        "14. Tarea: Crea dos listas y concaténalas sin usar condicionales ni bucles.\n",
        "\n",
        "15. Tarea: Crea dos cadenas e imprime la concatenación sin usar condicionales ni bucles.\n",
        "\n",
        "16. Tarea: Crea una lista y añade un elemento sin usar condicionales ni bucles.\n",
        "\n",
        "17. Tarea: Crea dos diccionarios y únelos sin usar condicionales ni bucles.\n",
        "\n",
        "18. Tarea: Crea dos conjuntos y encuentra la unión sin usar condicionales ni bucles.\n",
        "\n",
        "19. Tarea: Obtén la fecha y hora actual sin usar condicionales ni bucles.\n",
        "\n",
        "20. Tarea: Calcula la longitud de una cadena sin usar condicionales ni bucles.\n",
        "\n",
        "21. Tarea: Convierte una cadena a mayúsculas y otra a minúsculas sin usar condicionales ni bucles.\n",
        "\n",
        "22. Tarea: Reemplaza una subcadena en una cadena principal sin usar condicionales ni bucles.\n",
        "\n",
        "23. Tarea: Divide una cadena en palabras sin usar condicionales ni bucles.\n",
        "\n",
        "24. Tarea: Concatena tres cadenas diferentes sin usar condicionales ni bucles.\n",
        "\n",
        "25. Tarea: Crea dos listas y extiende la primera con los elementos de la segunda sin usar condicionales ni bucles.\n",
        "\n",
        "26. Tarea: Elimina un elemento específico de una lista sin usar condicionales ni bucles.\n",
        "\n",
        "27. Tarea: Encuentra el índice de un elemento en una lista sin usar condicionales ni bucles.\n",
        "\n",
        "28. Tarea: Ordena una lista de números de forma ascendente sin usar condicionales ni bucles.\n",
        "\n",
        "29. Tarea: Cuenta cuántas veces aparece un elemento en una lista sin usar condicionales ni bucles.\n",
        "\n",
        "30. Tarea: Calcula 2 elevado a la 5ta potencia sin usar condicionales ni bucles.\n",
        "\n",
        "31. Tarea: Realiza la división entera de 17 entre 3 sin usar condicionales ni bucles.\n",
        "\n",
        "32. Tarea: Calcula el resto de la división de 20 entre 7 sin usar condicionales ni bucles.\n",
        "\n",
        "33. Tarea: Redondea el número 3.14159 a dos decimales sin usar condicionales ni bucles.\n",
        "\n",
        "34. Tarea: Realiza la operación (4 + 3) * (2 - 1) sin usar condicionales ni bucles."
      ]
    },
    {
      "cell_type": "code",
      "execution_count": null,
      "metadata": {
        "id": "VPv_FaZQbi_P",
        "outputId": "8b32b71e-2770-4127-85da-67692960fb62",
        "colab": {
          "base_uri": "https://localhost:8080/",
          "height": 35
        }
      },
      "outputs": [
        {
          "output_type": "execute_result",
          "data": {
            "text/plain": [
              "'Hola, Python!'"
            ],
            "application/vnd.google.colaboratory.intrinsic+json": {
              "type": "string"
            }
          },
          "metadata": {},
          "execution_count": 1
        }
      ],
      "source": [
        "# 01. Tarea: Crea una variable llamada 'mensaje' y asígnale el valor \"Hola, Python!\"\n",
        "Hi = \"Hola, Python!\"\n",
        "\n",
        "Hi"
      ]
    },
    {
      "cell_type": "code",
      "execution_count": null,
      "metadata": {
        "id": "ChKa_bdZbi_S",
        "outputId": "e6c36d6d-245e-44e3-de77-9419d2de13fe",
        "colab": {
          "base_uri": "https://localhost:8080/"
        }
      },
      "outputs": [
        {
          "output_type": "stream",
          "name": "stdout",
          "text": [
            "Bachata\n"
          ]
        }
      ],
      "source": [
        "# 02. Tarea: Crea una lista con nombres de ritmos musicales y muestra el tercer elemento.\n",
        "musical_rhythms = [\"Salsa\", \"Reggaeton\", \"Bachata\", \"Merengue\", \"Cumbia\"]\n",
        "print(musical_rhythms[2])"
      ]
    },
    {
      "cell_type": "code",
      "execution_count": null,
      "metadata": {
        "id": "WmPnHDwkbi_S",
        "outputId": "b536ee00-b03b-4966-ecf0-d663d1e191ef",
        "colab": {
          "base_uri": "https://localhost:8080/"
        }
      },
      "outputs": [
        {
          "output_type": "stream",
          "name": "stdout",
          "text": [
            "El área del rectangulo con base 5 y altura 3 es 15.\n"
          ]
        }
      ],
      "source": [
        "# 03. Tarea: Calcula el área de un rectángulo con base 5 y altura 3.\n",
        "\n",
        "base = 5\n",
        "height = 3\n",
        "\n",
        "area = base * height\n",
        "\n",
        "print(f\"El área del rectangulo con base {base} y altura {height} es {area}.\")\n",
        "\n"
      ]
    },
    {
      "cell_type": "code",
      "execution_count": null,
      "metadata": {
        "id": "XA7h7DJpbi_U",
        "outputId": "83f132a6-3834-4f02-c969-b8f8023b3e5d",
        "colab": {
          "base_uri": "https://localhost:8080/"
        }
      },
      "outputs": [
        {
          "output_type": "stream",
          "name": "stdout",
          "text": [
            "El numero 7 es Es impar.\n",
            "El numero 1956 es ES par.\n"
          ]
        }
      ],
      "source": [
        "# 04. Tarea: Implementa un programa que determine si un número es par o impar.\n",
        "\n",
        "def es_par_o_impar(number):\n",
        "    if number % 2 == 0:\n",
        "        return \"ES par\"\n",
        "    else:\n",
        "        return \"Es impar\"\n",
        "\n",
        "number = 7\n",
        "print(f\"El numero {number} es {es_par_o_impar(number)}.\")\n",
        "\n",
        "number = 1956\n",
        "print(f\"El numero {number} es {es_par_o_impar(number)}.\")\n"
      ]
    },
    {
      "cell_type": "code",
      "source": [
        "\n",
        "# 04. Tarea: Implementa un programa que determine si un número es par o impar.\n",
        "\n",
        "def es_par_o_impar(number):\n",
        "    if number % 2 == 0:\n",
        "        return \"ES par\"\n",
        "    else:\n",
        "        return \"Es impar\"\n",
        "\n",
        "number = float(input(\"Por favor, ingresa un número: \"))\n",
        "print(f\"El numero {number} es {es_par_o_impar(number)}.\")\n",
        "\n",
        "number = number = float(input(\"Por favor, ingresa un número: \"))\n",
        "print(f\"El numero {number} es {es_par_o_impar(number)}.\")"
      ],
      "metadata": {
        "id": "gmGd81umgoCx",
        "outputId": "de7dea7e-ef21-46a8-e0b0-7e23c1ce9003",
        "colab": {
          "base_uri": "https://localhost:8080/"
        }
      },
      "execution_count": null,
      "outputs": [
        {
          "output_type": "stream",
          "name": "stdout",
          "text": [
            "Por favor, ingresa un número: 7\n",
            "El numero 7.0 es Es impar.\n",
            "Por favor, ingresa un número: 1962\n",
            "El numero 1962.0 es ES par.\n"
          ]
        }
      ]
    },
    {
      "cell_type": "code",
      "execution_count": null,
      "metadata": {
        "id": "F3C3pZ9zbi_U",
        "outputId": "1fdcfd71-977b-4202-d30d-5595361f690d",
        "colab": {
          "base_uri": "https://localhost:8080/",
          "height": 106
        }
      },
      "outputs": [
        {
          "output_type": "error",
          "ename": "SyntaxError",
          "evalue": "invalid syntax (<ipython-input-9-38690dbb45b4>, line 3)",
          "traceback": [
            "\u001b[0;36m  File \u001b[0;32m\"<ipython-input-9-38690dbb45b4>\"\u001b[0;36m, line \u001b[0;32m3\u001b[0m\n\u001b[0;31m    while = 5\u001b[0m\n\u001b[0m          ^\u001b[0m\n\u001b[0;31mSyntaxError\u001b[0m\u001b[0;31m:\u001b[0m invalid syntax\n"
          ]
        }
      ],
      "source": [
        "# Tarea: Intenta usar una palabra reservada como nombre de variable y observa qué sucede.\n",
        "\n",
        "while = 5\n",
        "height = 3\n",
        "\n",
        "area = while * height\n",
        "\n",
        "print(f\"El área del rectangulo con base {while} y altura {height} es {area}.\")"
      ]
    },
    {
      "cell_type": "code",
      "execution_count": null,
      "metadata": {
        "id": "7pBWPwFBbi_V",
        "outputId": "89b5ffab-ccb8-45a2-b6b3-cce14c0b8a18",
        "colab": {
          "base_uri": "https://localhost:8080/"
        }
      },
      "outputs": [
        {
          "output_type": "stream",
          "name": "stdout",
          "text": [
            "El de la operacion (10 + 5) * 2 / 3  es 10.0.\n"
          ]
        }
      ],
      "source": [
        "# 06. Tarea: Calcula el resultado de la siguiente expresión matemática: (10 + 5) * 2 / 3\n",
        "\n",
        "print(f\"El de la operacion (10 + 5) * 2 / 3  es {(10 + 5) * 2 / 3}.\")"
      ]
    },
    {
      "cell_type": "code",
      "execution_count": null,
      "metadata": {
        "id": "vSVEJuWvbi_V",
        "outputId": "56699aa0-a0df-42cb-fa16-3bc145ea13b4",
        "colab": {
          "base_uri": "https://localhost:8080/"
        }
      },
      "outputs": [
        {
          "output_type": "stream",
          "name": "stdout",
          "text": [
            "La suma de todos los elementos de las lista es 15.\n"
          ]
        }
      ],
      "source": [
        "# 07. Tarea: Crea una lista de números y muestra la suma de todos los elementos.\n",
        "\n",
        "# Crea la lista de numeros\n",
        "numbers = [1, 2, 3, 4, 5]\n",
        "# Calcula la suma la lista de numeros\n",
        "total = sum(numbers)\n",
        "# Print the result\n",
        "print(f\"La suma de todos los elementos de las lista es {total}.\")\n",
        "\n"
      ]
    },
    {
      "cell_type": "code",
      "source": [
        "# 08. Tarea: Solicita al usuario ingresar un número e indica si es positivo, negativo o cero.\n",
        "def check_number(n):\n",
        "    if n > 0:\n",
        "        return \"El número es positivo.\"\n",
        "    elif n < 0:\n",
        "        return \"El número es negativo.\"\n",
        "    else:\n",
        "        return \"El número es cero.\"\n",
        "\n",
        "# Test the function with a positive number, a negative number, and zero\n",
        "print(check_number(5))  # Should print: \"El número es positivo.\"\n",
        "print(check_number(-3))  # Should print: \"El número es negativo.\"\n",
        "print(check_number(0))  # Should print: \"El número es cero.\"\n"
      ],
      "metadata": {
        "id": "TM29o0Fie1zV",
        "outputId": "2ecee957-b1c5-4829-a8cc-8da293df8534",
        "colab": {
          "base_uri": "https://localhost:8080/"
        }
      },
      "execution_count": null,
      "outputs": [
        {
          "output_type": "stream",
          "name": "stdout",
          "text": [
            "El número es positivo.\n",
            "El número es negativo.\n",
            "El número es cero.\n"
          ]
        }
      ]
    },
    {
      "cell_type": "code",
      "execution_count": null,
      "metadata": {
        "id": "YMwKf07xbi_W",
        "outputId": "8e68ee83-d7ad-42e9-aa22-7e6a6549d347",
        "colab": {
          "base_uri": "https://localhost:8080/"
        }
      },
      "outputs": [
        {
          "output_type": "stream",
          "name": "stdout",
          "text": [
            "H\n",
            "e\n",
            "l\n",
            "l\n",
            "o\n"
          ]
        }
      ],
      "source": [
        "# 09. Tarea: Crea una cadena e imprime cada caracter en una línea. (sin usar ciclos)\n",
        "\n",
        "word = 'Hello'\n",
        "\n",
        "print(word[0])        # will output 'H'\n",
        "print(word[1])        # will output 'e'\n",
        "print(word[2])        # will output 'l'\n",
        "print(word[3])        # will output 'l'\n",
        "print(word[4])        # will output 'o'"
      ]
    },
    {
      "cell_type": "code",
      "source": [
        "# 10. Tarea: Define una función que calcule el área de un círculo dado su radio.\n",
        "import math\n",
        "\n",
        "def calculate_circle_area(radius):\n",
        "    return math.pi * radius ** 2\n",
        "\n",
        "# Test the function with a radius of 5\n",
        "print(f\"The area of the circle with radius 5 is {calculate_circle_area(5)}\")\n",
        "\n"
      ],
      "metadata": {
        "id": "hRzp-u12fi6q"
      },
      "execution_count": null,
      "outputs": []
    },
    {
      "cell_type": "code",
      "execution_count": null,
      "metadata": {
        "id": "DShHp7WPbi_W",
        "outputId": "3a9167b9-2caa-464a-b23d-dfa9b3406fbd",
        "colab": {
          "base_uri": "https://localhost:8080/"
        }
      },
      "outputs": [
        {
          "output_type": "stream",
          "name": "stdout",
          "text": [
            "La edad de Ana es 25 años.\n"
          ]
        }
      ],
      "source": [
        "# 11. Tarea: Crea un diccionario con nombres de personas y sus edades. Imprime la edad de una persona específica.\n",
        "\n",
        "# Crear un diccionario con nombres de personas y sus edades\n",
        "personas = {\n",
        "    \"Juan\": 30,\n",
        "    \"Ana\": 25,\n",
        "    \"Carlos\": 40,\n",
        "    \"Maria\": 35\n",
        "}\n",
        "\n",
        "# Imprimir la edad de una persona específica\n",
        "nombre = \"Ana\"\n",
        "print(f\"La edad de {nombre} es {personas[nombre]} años.\")\n",
        "\n"
      ]
    },
    {
      "cell_type": "code",
      "execution_count": 1,
      "metadata": {
        "id": "eh7bPYyQbi_X",
        "outputId": "d499172f-521c-42d0-df45-8a94d9c83ba3",
        "colab": {
          "base_uri": "https://localhost:8080/"
        }
      },
      "outputs": [
        {
          "output_type": "stream",
          "name": "stdout",
          "text": [
            "El número aleatorio generado entre 1 y 10 es 4.\n"
          ]
        }
      ],
      "source": [
        "# 12. Tarea: Utiliza el módulo 'random' para generar un número aleatorio entre 1 y 10.\n",
        "\n",
        "import random\n",
        "\n",
        "# Generate a random number between 1 and 10\n",
        "numero_aleatorio = random.randint(1, 10)\n",
        "\n",
        "# Print the random number\n",
        "print(f\"El número aleatorio generado entre 1 y 10 es {numero_aleatorio}.\")\n",
        "\n"
      ]
    },
    {
      "cell_type": "code",
      "source": [
        "# 13. Tarea: Calcula la suma, resta, multiplicación y división de dos números sin usar condicionales ni bucles.\n",
        "num1 = 10\n",
        "num2 = 5\n",
        "\n",
        "\n",
        "suma = num1 + num2\n",
        "resta = num1 - num2\n",
        "multiplicacion = num1 * num2\n",
        "division = num1 / num2\n",
        "\n",
        "\n",
        "print(f\"La suma de {num1} y {num2} es {suma}.\")\n",
        "print(f\"La resta de {num1} y {num2} es {resta}.\")\n",
        "print(f\"La multiplicación de {num1} y {num2} es {multiplicacion}.\")\n",
        "print(f\"La división de {num1} y {num2} es {division}.\")\n",
        "\n"
      ],
      "metadata": {
        "id": "huVpw_YbjaCz",
        "outputId": "f99805b0-9264-4259-dac2-1a014ea963fa",
        "colab": {
          "base_uri": "https://localhost:8080/"
        }
      },
      "execution_count": 2,
      "outputs": [
        {
          "output_type": "stream",
          "name": "stdout",
          "text": [
            "La suma de 10 y 5 es 15.\n",
            "La resta de 10 y 5 es 5.\n",
            "La multiplicación de 10 y 5 es 50.\n",
            "La división de 10 y 5 es 2.0.\n"
          ]
        }
      ]
    },
    {
      "cell_type": "code",
      "source": [
        "# 14. Crea dos listas y concaténalas sin usar condicionales ni bucles.\n",
        "lista1 = [1, 2, 3]\n",
        "lista2 = [4, 5, 6]\n",
        "lista_concatenada = lista1 + lista2\n",
        "print(lista_concatenada)  # Imprime: [1, 2, 3, 4, 5, 6]"
      ],
      "metadata": {
        "id": "arPulx2TkvrS",
        "outputId": "30a2817d-d385-472c-92ed-bb01cc839149",
        "colab": {
          "base_uri": "https://localhost:8080/"
        }
      },
      "execution_count": 3,
      "outputs": [
        {
          "output_type": "stream",
          "name": "stdout",
          "text": [
            "[1, 2, 3, 4, 5, 6]\n"
          ]
        }
      ]
    },
    {
      "cell_type": "code",
      "source": [
        "# 15. Crea dos cadenas e imprime la concatenación sin usar condicionales ni bucles.\n",
        "cadena1 = \"Hola\"\n",
        "cadena2 = \"Mundo\"\n",
        "cadena_concatenada = cadena1 + \" \" + cadena2\n",
        "print(cadena_concatenada)\n",
        "print(f\"Cadena concatenedada con a funcion f {cadena1} {cadena2}.\")"
      ],
      "metadata": {
        "id": "nZxlyPCbkz2Z",
        "outputId": "5ccd274d-1279-4fd6-85a3-a3419fecc54a",
        "colab": {
          "base_uri": "https://localhost:8080/"
        }
      },
      "execution_count": 6,
      "outputs": [
        {
          "output_type": "stream",
          "name": "stdout",
          "text": [
            "Hola Mundo\n",
            "Cadena concatenedada con a funcion f Hola Mundo.\n"
          ]
        }
      ]
    },
    {
      "cell_type": "code",
      "source": [
        "# 16. Crea una lista y añade un elemento sin usar condicionales ni bucles.\n",
        "lista = [1, 2, 3]\n",
        "print(lista)\n",
        "lista.append(4)\n",
        "print(lista)  # Imprime: [1, 2, 3, 4]"
      ],
      "metadata": {
        "id": "QK7hW3Hak7JA",
        "outputId": "d531c895-a776-494c-c867-159b57e14e43",
        "colab": {
          "base_uri": "https://localhost:8080/"
        }
      },
      "execution_count": 9,
      "outputs": [
        {
          "output_type": "stream",
          "name": "stdout",
          "text": [
            "[1, 2, 3]\n",
            "[1, 2, 3, 4]\n"
          ]
        }
      ]
    },
    {
      "cell_type": "code",
      "source": [
        "# 17. Crea dos diccionarios y únelos sin usar condicionales ni bucles.\n",
        "diccionario1 = {\"clave1\": \"valor1\", \"clave2\": \"valor2\"}\n",
        "print(diccionario1)\n",
        "diccionario2 = {\"clave3\": \"valor3\", \"clave4\": \"valor4\"}\n",
        "print(diccionario2)\n",
        "diccionario1.update(diccionario2)\n",
        "print(diccionario1)  # Imprime: {'clave1': 'valor1', 'clave2': 'valor2', 'clave3': 'valor3', 'clave4': 'valor4'}"
      ],
      "metadata": {
        "id": "FEIC-fFrlOWG",
        "outputId": "f7d3bffc-8a6e-4855-eb8c-7adc03cdbc36",
        "colab": {
          "base_uri": "https://localhost:8080/"
        }
      },
      "execution_count": 10,
      "outputs": [
        {
          "output_type": "stream",
          "name": "stdout",
          "text": [
            "{'clave1': 'valor1', 'clave2': 'valor2'}\n",
            "{'clave3': 'valor3', 'clave4': 'valor4'}\n",
            "{'clave1': 'valor1', 'clave2': 'valor2', 'clave3': 'valor3', 'clave4': 'valor4'}\n"
          ]
        }
      ]
    },
    {
      "cell_type": "code",
      "source": [
        "\n",
        "# 18. Crea dos conjuntos y encuentra la unión sin usar condicionales ni bucles.\n",
        "conjunto1 = {1, 2, 3}\n",
        "print(conjunto1)\n",
        "conjunto2 = {3, 4, 5}\n",
        "print(conjunto2)\n",
        "union = conjunto1.union(conjunto2)\n",
        "print(union)  # Imprime: {1, 2, 3, 4, 5}"
      ],
      "metadata": {
        "id": "6S4DVg27lg1h",
        "outputId": "a5b33bd2-8f0f-4608-830d-fe3b77b041d2",
        "colab": {
          "base_uri": "https://localhost:8080/"
        }
      },
      "execution_count": 13,
      "outputs": [
        {
          "output_type": "stream",
          "name": "stdout",
          "text": [
            "{1, 2, 3}\n",
            "{3, 4, 5}\n",
            "{1, 2, 3, 4, 5}\n"
          ]
        }
      ]
    },
    {
      "cell_type": "code",
      "source": [
        "\n",
        "# 19. Obtén la fecha y hora actual sin usar condicionales ni bucles.\n",
        "import datetime\n",
        "fecha_hora_actual = datetime.datetime.now()\n",
        "print(fecha_hora_actual)"
      ],
      "metadata": {
        "id": "BofLKOWClow1",
        "outputId": "fb7ec0eb-bec0-42c1-cf25-0365608c76c8",
        "colab": {
          "base_uri": "https://localhost:8080/"
        }
      },
      "execution_count": 14,
      "outputs": [
        {
          "output_type": "stream",
          "name": "stdout",
          "text": [
            "2024-08-13 07:14:58.821779\n"
          ]
        }
      ]
    },
    {
      "cell_type": "code",
      "source": [
        "\n",
        "# 20. Calcula la longitud de una cadena sin usar condicionales ni bucles.\n",
        "cadena = \"Hola Mundo\"\n",
        "longitud = len(cadena)\n",
        "print(longitud)\n",
        "print(f\"La cadena {cadena} tiene una longitud de {len(cadena)}.\")\n",
        "cadena = \"Externocleidomastoideo\"\n",
        "longitud = len(cadena)\n",
        "print(f\"La cadena {cadena} tiene una longitud de {len(cadena)}.\")\n",
        "print(longitud)"
      ],
      "metadata": {
        "id": "Nl9Syi-hly0i",
        "outputId": "448cd7bb-7256-4567-a022-ef55a98c68e7",
        "colab": {
          "base_uri": "https://localhost:8080/"
        }
      },
      "execution_count": 19,
      "outputs": [
        {
          "output_type": "stream",
          "name": "stdout",
          "text": [
            "10\n",
            "La cadena Hola Mundo tiene una longitud de 10.\n",
            "La cadena Externocleidomastoideo tiene una longitud de 22.\n",
            "22\n"
          ]
        }
      ]
    },
    {
      "cell_type": "code",
      "source": [
        "\n",
        "# 21. Convierte una cadena a mayúsculas y otra a minúsculas sin usar condicionales ni bucles.\n",
        "cadena_mayusculas = \"Hola Mundo\".upper()\n",
        "cadena_minusculas = \"Hola Mundo\".lower()\n",
        "print(cadena_mayusculas)  # Imprime: \"HOLA MUNDO\"\n",
        "print(cadena_minusculas)  # Imprime: \"hola mundo\""
      ],
      "metadata": {
        "id": "obU_a5nCmQKn",
        "outputId": "b6fadbad-42f5-45c3-ab63-f4618c47cba2",
        "colab": {
          "base_uri": "https://localhost:8080/"
        }
      },
      "execution_count": 20,
      "outputs": [
        {
          "output_type": "stream",
          "name": "stdout",
          "text": [
            "HOLA MUNDO\n",
            "hola mundo\n"
          ]
        }
      ]
    },
    {
      "cell_type": "code",
      "source": [
        "# 22. Reemplaza una subcadena en una cadena principal sin usar condicionales ni bucles.\n",
        "cadena = \"Hola Mundo\"\n",
        "cadena_reemplazada = cadena.replace(\"Mundo\", \"Python\")\n",
        "print(cadena_reemplazada)  # Imprime: \"Hola Python\""
      ],
      "metadata": {
        "id": "MPCP9WD4mTc4",
        "outputId": "8047f5a4-925e-4f04-e994-c38dc16c7969",
        "colab": {
          "base_uri": "https://localhost:8080/"
        }
      },
      "execution_count": 21,
      "outputs": [
        {
          "output_type": "stream",
          "name": "stdout",
          "text": [
            "Hola Python\n"
          ]
        }
      ]
    },
    {
      "cell_type": "code",
      "source": [
        "\n",
        "# 23. Divide una cadena en palabras sin usar condicionales ni bucles.\n",
        "cadena = \"Hola Python\"\n",
        "palabras = cadena.split()\n",
        "print(palabras)  # Imprime: ['Hola', 'Python']"
      ],
      "metadata": {
        "id": "09DCiaM2mZvx",
        "outputId": "19dcfe26-6954-411a-f7e7-212c59549cf8",
        "colab": {
          "base_uri": "https://localhost:8080/"
        }
      },
      "execution_count": 23,
      "outputs": [
        {
          "output_type": "stream",
          "name": "stdout",
          "text": [
            "['Hola', 'Python']\n"
          ]
        }
      ]
    },
    {
      "cell_type": "code",
      "source": [
        "# 24. Concatena tres cadenas diferentes sin usar condicionales ni bucles.\n",
        "cadena1 = \"Hola\"\n",
        "cadena2 = \"Mundo\"\n",
        "cadena3 = \"Python\"\n",
        "cadena_concatenada = cadena1 + \" \" + cadena2 + \" \" + cadena3\n",
        "print(cadena_concatenada)\n",
        "print(f\"La cadena concateneda {cadena1} {cadena2} {cadena3} tiene una longitud de {len(cadena1)+len(cadena2)+len(cadena3)}.\")\n"
      ],
      "metadata": {
        "id": "ETMyUR8tmg2T",
        "outputId": "eaf49605-1076-4dcf-e83b-e90f53d6b6b1",
        "colab": {
          "base_uri": "https://localhost:8080/"
        }
      },
      "execution_count": 26,
      "outputs": [
        {
          "output_type": "stream",
          "name": "stdout",
          "text": [
            "Hola Mundo Python\n",
            "La cadena concateneda Hola Mundo Python tiene una longitud de 15.\n"
          ]
        }
      ]
    },
    {
      "cell_type": "code",
      "source": [
        "\n",
        "# 25. Crea dos listas y extiende la primera con los elementos de la segunda sin usar condicionales ni bucles.\n",
        "lista1 = [1, 2, 3]\n",
        "lista2 = [4, 5, 6]\n",
        "lista1.extend(lista2)\n",
        "print(lista1)  # Imprime: [1, 2, 3, 4, 5, 6]"
      ],
      "metadata": {
        "id": "ibe57eYBmAeN",
        "outputId": "bd681e4d-27db-41a6-85c3-338d9f587301",
        "colab": {
          "base_uri": "https://localhost:8080/"
        }
      },
      "execution_count": 27,
      "outputs": [
        {
          "output_type": "stream",
          "name": "stdout",
          "text": [
            "[1, 2, 3, 4, 5, 6]\n"
          ]
        }
      ]
    },
    {
      "cell_type": "code",
      "source": [
        "\n",
        "# 26. Elimina un elemento específico de una lista sin usar condicionales ni bucles.\n",
        "lista = [1, 2, 3, 4, 5, 6]\n",
        "lista.remove(3)\n",
        "print(lista)  # Imprime: [1, 2, 4, 5, 6]\n",
        "lista.remove(5)\n",
        "print(lista)  # Imprime: [1, 2, 4, 5, 6]"
      ],
      "metadata": {
        "id": "9R4eumY0nKd8",
        "outputId": "3fa222e8-704f-4907-d323-2aa6bead4f76",
        "colab": {
          "base_uri": "https://localhost:8080/"
        }
      },
      "execution_count": 29,
      "outputs": [
        {
          "output_type": "stream",
          "name": "stdout",
          "text": [
            "[1, 2, 4, 5, 6]\n",
            "[1, 2, 4, 6]\n"
          ]
        }
      ]
    },
    {
      "cell_type": "code",
      "source": [
        "# 27. Encuentra el índice de un elemento en una lista sin usar condicionales ni bucles.\n",
        "lista = [1, 2, 3, 4, 5, 6]\n",
        "indice = lista.index(4)\n",
        "print(indice)  # Imprime: 3\n",
        "indice = lista.index(6)\n",
        "print(indice)  # Imprime: 5\n"
      ],
      "metadata": {
        "id": "FfaZlfS_nUDa",
        "outputId": "4bd06438-99b2-44b6-89b5-443117e67cbb",
        "colab": {
          "base_uri": "https://localhost:8080/"
        }
      },
      "execution_count": 33,
      "outputs": [
        {
          "output_type": "stream",
          "name": "stdout",
          "text": [
            "3\n",
            "5\n"
          ]
        }
      ]
    },
    {
      "cell_type": "code",
      "source": [
        "\n",
        "# 28. Ordena una lista de números de forma ascendente sin usar condicionales ni bucles.\n",
        "lista = [6, 5, 4, 3, 2, 1]\n",
        "lista.sort()\n",
        "print(lista)  # Imprime: [1, 2, 3, 4, 5, 6]\n"
      ],
      "metadata": {
        "id": "dxiGqyD1noNJ",
        "outputId": "939a03d5-df8d-4ea5-daf1-729404d5fc6e",
        "colab": {
          "base_uri": "https://localhost:8080/"
        }
      },
      "execution_count": 34,
      "outputs": [
        {
          "output_type": "stream",
          "name": "stdout",
          "text": [
            "[1, 2, 3, 4, 5, 6]\n"
          ]
        }
      ]
    },
    {
      "cell_type": "code",
      "source": [
        "\n",
        "# 29. Cuenta cuántas veces aparece un elemento en una lista sin usar condicionales ni bucles.\n",
        "lista = [1, 2, 3, 2, 4, 2, 5, 2, 6]\n",
        "conteo = lista.count(2)\n",
        "print(conteo)  # Imprime: 4\n"
      ],
      "metadata": {
        "id": "qU3ACD60nrEQ",
        "outputId": "29a3abc3-f3cb-4a97-b3c7-8020796cd2c9",
        "colab": {
          "base_uri": "https://localhost:8080/"
        }
      },
      "execution_count": 35,
      "outputs": [
        {
          "output_type": "stream",
          "name": "stdout",
          "text": [
            "4\n"
          ]
        }
      ]
    },
    {
      "cell_type": "code",
      "source": [
        "\n",
        "# 30. Calcula 2 elevado a la 5ta potencia sin usar condicionales ni bucles.\n",
        "potencia = 2 ** 5\n",
        "print(potencia)  # Imprime: 32"
      ],
      "metadata": {
        "id": "22GvhvPdnW1V",
        "outputId": "2b7464a0-547f-416a-a3e4-28a8beb953d3",
        "colab": {
          "base_uri": "https://localhost:8080/"
        }
      },
      "execution_count": 36,
      "outputs": [
        {
          "output_type": "stream",
          "name": "stdout",
          "text": [
            "32\n"
          ]
        }
      ]
    },
    {
      "cell_type": "code",
      "source": [
        "\n",
        "# 31. Realiza la división entera de 17 entre 3 sin usar condicionales ni bucles.\n",
        "division_entera = 17 // 3\n",
        "print(division_entera)  # Imprime: 5"
      ],
      "metadata": {
        "id": "8J2VFSihnybV",
        "outputId": "1288969d-51e2-40a8-de64-90cf640c4c0f",
        "colab": {
          "base_uri": "https://localhost:8080/"
        }
      },
      "execution_count": 37,
      "outputs": [
        {
          "output_type": "stream",
          "name": "stdout",
          "text": [
            "5\n"
          ]
        }
      ]
    },
    {
      "cell_type": "code",
      "source": [
        "# 32. Calcula el resto de la división de 20 entre 7 sin usar condicionales ni bucles.\n",
        "resto = 20 % 7\n",
        "print(resto)  # Imprime: 6"
      ],
      "metadata": {
        "id": "DsaPoM6Xn1WE",
        "outputId": "51b6d2ff-d2b5-4542-fcf1-b2b11c1677ea",
        "colab": {
          "base_uri": "https://localhost:8080/"
        }
      },
      "execution_count": 38,
      "outputs": [
        {
          "output_type": "stream",
          "name": "stdout",
          "text": [
            "6\n"
          ]
        }
      ]
    },
    {
      "cell_type": "code",
      "source": [
        "\n",
        "# 33. Redondea el número 3.14159 a dos decimales sin usar condicionales ni bucles.\n",
        "redondeado = round(3.14159, 2)\n",
        "print(redondeado)  # Imprime: 3.14"
      ],
      "metadata": {
        "id": "zgCRQBmpn3fM",
        "outputId": "65869bda-8e18-4ad5-c02f-6dfe90d07195",
        "colab": {
          "base_uri": "https://localhost:8080/"
        }
      },
      "execution_count": 39,
      "outputs": [
        {
          "output_type": "stream",
          "name": "stdout",
          "text": [
            "3.14\n"
          ]
        }
      ]
    },
    {
      "cell_type": "code",
      "source": [
        "# 34. Realiza la operación (4 + 3) * (2 - 1) sin usar condicionales ni bucles.\n",
        "resultado = (4 + 3) * (2 - 1)\n",
        "print(resultado)  # Imprime: 7\n"
      ],
      "metadata": {
        "id": "XvHPgv1tn6JC",
        "outputId": "2203dff8-a94d-4662-cc9a-5c2514c42ba5",
        "colab": {
          "base_uri": "https://localhost:8080/"
        }
      },
      "execution_count": 40,
      "outputs": [
        {
          "output_type": "stream",
          "name": "stdout",
          "text": [
            "7\n"
          ]
        }
      ]
    }
  ],
  "metadata": {
    "kernelspec": {
      "display_name": "Python 3.7.6 ('base')",
      "language": "python",
      "name": "python3"
    },
    "language_info": {
      "codemirror_mode": {
        "name": "ipython",
        "version": 3
      },
      "file_extension": ".py",
      "mimetype": "text/x-python",
      "name": "python",
      "nbconvert_exporter": "python",
      "pygments_lexer": "ipython3",
      "version": "3.7.6"
    },
    "orig_nbformat": 4,
    "vscode": {
      "interpreter": {
        "hash": "ad2bdc8ecc057115af97d19610ffacc2b4e99fae6737bb82f5d7fb13d2f2c186"
      }
    },
    "colab": {
      "provenance": [],
      "include_colab_link": true
    }
  },
  "nbformat": 4,
  "nbformat_minor": 0
}